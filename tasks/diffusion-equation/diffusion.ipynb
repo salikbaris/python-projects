{
 "cells": [
  {
   "cell_type": "code",
   "execution_count": null,
   "metadata": {},
   "outputs": [],
   "source": [
    "import numpy as np\n",
    "import matplotlib.pyplot as plt\n",
    "import sympy as smp\n",
    "from tqdm.notebook import tqdm"
   ]
  },
  {
   "cell_type": "markdown",
   "metadata": {},
   "source": [
    "## Task 1"
   ]
  },
  {
   "cell_type": "code",
   "execution_count": null,
   "metadata": {},
   "outputs": [],
   "source": [
    "t, x = smp.symbols(\"t x\", real=True)\n",
    "D, M = smp.symbols(\"D M\", real=True)\n",
    "u = smp.symbols(\"u\", cls=smp.Function)\n",
    "u = u(x, t)\n",
    "# Diffusion equation\n",
    "diffEq = smp.Eq(smp.diff(u, t), D * smp.diff(u, x, 2))\n",
    "# Gaussian function\n",
    "gaussianU = (M / smp.sqrt(4 * smp.pi * D * t)) * (smp.exp((-x*x) / (4 * D * t)))"
   ]
  },
  {
   "cell_type": "code",
   "execution_count": null,
   "metadata": {},
   "outputs": [],
   "source": [
    "diffEq"
   ]
  },
  {
   "cell_type": "code",
   "execution_count": null,
   "metadata": {},
   "outputs": [],
   "source": [
    "gaussianU"
   ]
  },
  {
   "cell_type": "code",
   "execution_count": null,
   "metadata": {},
   "outputs": [],
   "source": [
    "# Checking if gaussian is indeed a solution to diffEq\n",
    "smp.checkpdesol(diffEq, gaussianU)\n"
   ]
  },
  {
   "cell_type": "markdown",
   "metadata": {},
   "source": [
    "## IT IS!!"
   ]
  },
  {
   "cell_type": "code",
   "execution_count": null,
   "metadata": {},
   "outputs": [],
   "source": [
    "# Creating the numerical function\n",
    "gaussianU_f = smp.lambdify([x, t, D, M], gaussianU, \"numpy\")"
   ]
  },
  {
   "cell_type": "code",
   "execution_count": null,
   "metadata": {},
   "outputs": [],
   "source": [
    "D_val = 10\n",
    "M_val = 10"
   ]
  },
  {
   "cell_type": "code",
   "execution_count": null,
   "metadata": {},
   "outputs": [],
   "source": [
    "xValues = np.arange(-100, 100, dtype=float)\n",
    "for t_val in [_ * 5 for _ in range(1,6)]:\n",
    "    yValues = gaussianU_f(xValues, t_val, D_val, M_val)\n",
    "    plt.plot(xValues, yValues, label=f\"t = {t_val}\")\n",
    "plt.legend()\n",
    "plt.xlabel(\"X\")\n",
    "plt.ylabel(\"u(x,t)\")"
   ]
  },
  {
   "cell_type": "markdown",
   "metadata": {},
   "source": [
    "## Task 2"
   ]
  },
  {
   "cell_type": "code",
   "execution_count": null,
   "metadata": {},
   "outputs": [],
   "source": [
    "def uNK_initial(x: float, L: float) -> float:\n",
    "    '''\n",
    "    Returns the initial condition of the field at position x\n",
    "\n",
    "        Parameters:\n",
    "            x (float): position of the field\n",
    "            L (float): Size of the system\n",
    "        \n",
    "        Returns:\n",
    "            initialCondition (float): Initial condition at point x\n",
    "    '''\n",
    "    initialCondition = np.power(4 * x * (L - x) / np.square(L), 10)\n",
    "    return initialCondition"
   ]
  },
  {
   "cell_type": "code",
   "execution_count": null,
   "metadata": {},
   "outputs": [],
   "source": [
    "def numSchemeStep(uArr: np.ndarray, n: float, deltaX: float, deltaT: float, D: float, K: int, boundaryCondition: bool):\n",
    "        '''\n",
    "        Calculates the next time step for all x\n",
    "                \n",
    "                Parameters:\n",
    "                        uArr (numpy.ndarray): Array for calculated position(axis=0) and time(axis=1) steps\n",
    "                        n (float): Current time step\n",
    "                        deltaX (float): Size of the step in spatial dimension\n",
    "                        deltaT (float): Size of the step in temporal dimension\n",
    "                        D (float): The diffusion constant\n",
    "                        K (int): Number of spatial steps\n",
    "                        boundaryCondition (bool): Boundary condition of the system\n",
    "                                0 or False for absorbing boundary conditions\\n\n",
    "                                1 or True for no-flux boundary conditions\n",
    "                \n",
    "                Returns:\n",
    "                        nextStep (numpy.ndarray): Array for next time step calculated,\n",
    "                                to be added as a column to the original uArr\n",
    "\n",
    "        '''\n",
    "        # Create an array for the next step\n",
    "        nextStep = np.empty(uArr.shape[0])\n",
    "\n",
    "        # Add an empty column if the array is 1-dim\n",
    "        # Allows the double indices below to work smoothly\n",
    "        if uArr.ndim == 1:\n",
    "                uArr = np.c_[np.arange(uArr.shape[0]), uArr]\n",
    "                # Also increase n as the number of columns have increased\n",
    "                n = n + 1\n",
    "                \n",
    "        # Loop over all x\n",
    "        for k in range(uArr.shape[0]):\n",
    "                # Find the terms\n",
    "\n",
    "                # Apply the adjustments for the boundaries accordingly\n",
    "                if k == 0:\n",
    "                        uNKMinus1 = uArr[1, n] if boundaryCondition else 0\n",
    "                else:\n",
    "                        uNKMinus1 = uArr[k - 1, n]\n",
    "                if k == K:\n",
    "                        uNKPlus1 = uArr[k - 1, n] if boundaryCondition else 0\n",
    "                else:\n",
    "                        uNKPlus1 = uArr[k + 1, n]\n",
    "                uNK = uArr[k , n]\n",
    "\n",
    "                # Calculate the next time step for the position k\n",
    "                uNPlus1K = uNK + (deltaT * D * (uNKMinus1 - 2 * uNK + uNKPlus1) / deltaX**2)\n",
    "\n",
    "                # Save it to the array\n",
    "                nextStep[k] = uNPlus1K\n",
    "\n",
    "        return nextStep"
   ]
  },
  {
   "cell_type": "code",
   "execution_count": null,
   "metadata": {},
   "outputs": [],
   "source": [
    "def numScheme(initialConditionFunc, D: float, L: float, K: int, tMax: float, deltaFactor: float, boundaryCondition: bool):\n",
    "    '''\n",
    "    Calculates the numerical description of the diffusion equation\n",
    "\n",
    "        Parameters:\n",
    "            initialConditionFunc (function): Function that describes the initial condition for a given x in the form of func(x, L)\n",
    "            D (float): Diffusion constant\n",
    "            L (float): Size of the system\n",
    "            K (int): Number of spatial steps\n",
    "            tMax (float): Desired amount of time\n",
    "            deltaFactor (float): Factor for determining deltaT\n",
    "            boundaryCondition (bool): Boundary condition of the system\n",
    "                    0 or False for absorbing boundary conditions\\n\n",
    "                    1 or True for no-flux boundary conditions\n",
    "        \n",
    "        Returns:\n",
    "            uArr (numpy.ndarray): Description of the system both spatially(rows) and temporal(columns)\n",
    "    '''\n",
    "    # Calculating deltaX and deltaT\n",
    "    deltaX = L / K\n",
    "    deltaT = (deltaX ** 2 / (2 * D_val)) / deltaFactor\n",
    "    # The number of time steps\n",
    "    N = tMax / deltaT\n",
    "    print(f\"deltaX = {deltaX}, deltaT = {deltaT}, N= {N}\\n\")\n",
    "    \n",
    "    # Creating the ndarray\n",
    "    uArr = np.empty((K + 1, int(N) + 1))\n",
    "    uArr[:, 0] = np.arange(0, L + deltaX, deltaX)\n",
    "\n",
    "    # Calculating the initial condition\n",
    "    uArr[:, 0] = initialConditionFunc(uArr[:, 0], L)\n",
    "\n",
    "    # Calculating all time steps\n",
    "    for n in tqdm(range(int(N))):\n",
    "        uArr[:, n + 1] = numSchemeStep(uArr, n, deltaX, deltaT, D, K, boundaryCondition)\n",
    "    \n",
    "    return uArr\n",
    "\n",
    "    \n"
   ]
  },
  {
   "cell_type": "code",
   "execution_count": null,
   "metadata": {},
   "outputs": [],
   "source": [
    "D_val = 1\n",
    "L_val = 5\n",
    "K_val = 500\n",
    "tMax_val = 1\n",
    "deltaFactor_val = 1\n",
    "# Lasts around 15 minutes\n",
    "noFlux = numScheme(uNK_initial, D_val, L_val, K_val, tMax_val, deltaFactor_val, True)"
   ]
  },
  {
   "cell_type": "code",
   "execution_count": null,
   "metadata": {},
   "outputs": [],
   "source": [
    "for i in range(11):\n",
    "    plt.plot(noFlux[:, i * 2000], label=f\"t: {i*1/10}\")\n",
    "plt.legend()\n",
    "plt.show()"
   ]
  },
  {
   "cell_type": "code",
   "execution_count": null,
   "metadata": {},
   "outputs": [],
   "source": [
    "for i in range(5):\n",
    "    idx = int(0.25/ 5e-5) * i\n",
    "    plt.plot(noFlux[:, idx], label=f\"t = {0.25*i}\")\n",
    "plt.legend()\n",
    "plt.show()"
   ]
  },
  {
   "cell_type": "code",
   "execution_count": null,
   "metadata": {},
   "outputs": [],
   "source": [
    "for i in range(11):\n",
    "    print(f\"total u at t = {i / 10} =\", np.sum(noFlux[:, i * 200000]))\n",
    "    if i == 10:\n",
    "        percentChange = ( ( np.sum(noFlux[:, 0]) - np.sum(noFlux[:, 2000000])) / np.sum(noFlux[:, 0]) ) * 100\n",
    "        print(f\"{percentChange} % percent change\" )"
   ]
  },
  {
   "cell_type": "code",
   "execution_count": null,
   "metadata": {},
   "outputs": [],
   "source": [
    "D_val = 1\n",
    "L_val = 5\n",
    "K_val = 500\n",
    "tMax_val = 20\n",
    "deltaFactor_val = 1\n",
    "# Lasts around 16 minutes\n",
    "absorbing = numScheme(uNK_initial, D_val, L_val, K_val, tMax_val, deltaFactor_val, False)"
   ]
  },
  {
   "cell_type": "code",
   "execution_count": null,
   "metadata": {},
   "outputs": [],
   "source": [
    "for i in range(5):\n",
    "    idx = int(0.25/ 5e-7) * i\n",
    "    plt.plot(absorbing[:, idx], label=f\"t = {0.25*i}\")\n",
    "plt.legend()\n",
    "plt.show()"
   ]
  },
  {
   "cell_type": "code",
   "execution_count": null,
   "metadata": {},
   "outputs": [],
   "source": [
    "for i in range(21):\n",
    "    plt.plot(absorbing[:, i * 20000], label=f\"t: {i*1}\")\n",
    "plt.legend()\n",
    "plt.show()"
   ]
  },
  {
   "cell_type": "code",
   "execution_count": null,
   "metadata": {},
   "outputs": [],
   "source": [
    "for i in range(21):\n",
    "    print(f\"total u at t = {i} =\", np.sum(absorbing[:, i * 20000]))\n",
    "    if i == 20:\n",
    "        percentChange = ( ( np.sum(absorbing[:, 0]) - np.sum(absorbing[:, 400000])) / np.sum(absorbing[:, 0]) ) * 100\n",
    "        print(f\"{percentChange} % percent change\" )"
   ]
  },
  {
   "cell_type": "code",
   "execution_count": null,
   "metadata": {},
   "outputs": [],
   "source": [
    "amount = np.empty(400001)\n",
    "amount.shape"
   ]
  },
  {
   "cell_type": "code",
   "execution_count": null,
   "metadata": {},
   "outputs": [],
   "source": [
    "for i in tqdm(range(absorbing.shape[1])):\n",
    "    amount[i] = np.sum(absorbing[:, i])"
   ]
  },
  {
   "cell_type": "code",
   "execution_count": null,
   "metadata": {},
   "outputs": [],
   "source": [
    "plt.plot(amount)\n",
    "plt.xticks([      0.,  50000., 100000., 150000., 200000., 250000.,\n",
    "        300000., 350000., 400000.], [ 0., 2.5, 5, 7.5, 10, 12.5, 15, 17.5, 20])"
   ]
  },
  {
   "cell_type": "code",
   "execution_count": null,
   "metadata": {},
   "outputs": [],
   "source": [
    "plt.semilogy(amount)\n",
    "plt.xticks([      0.,  50000., 100000., 150000., 200000., 250000.,\n",
    "        300000., 350000., 400000.], [ 0., 2.5, 5, 7.5, 10, 12.5, 15, 17.5, 20])"
   ]
  },
  {
   "cell_type": "code",
   "execution_count": null,
   "metadata": {},
   "outputs": [],
   "source": [
    "slope, intercept = np.polyfit(np.log(amount), np.arange(amount.shape[0]), 1)\n",
    "print(f\"slope: {slope/20000}, intercept: {intercept/20000}\")"
   ]
  },
  {
   "cell_type": "code",
   "execution_count": null,
   "metadata": {},
   "outputs": [],
   "source": [
    "plt.plot(np.arange(amount.shape[0]), np.log(amount))"
   ]
  }
 ],
 "metadata": {
  "kernelspec": {
   "display_name": "base",
   "language": "python",
   "name": "python3"
  },
  "language_info": {
   "codemirror_mode": {
    "name": "ipython",
    "version": 3
   },
   "file_extension": ".py",
   "mimetype": "text/x-python",
   "name": "python",
   "nbconvert_exporter": "python",
   "pygments_lexer": "ipython3",
   "version": "3.9.17"
  },
  "orig_nbformat": 4
 },
 "nbformat": 4,
 "nbformat_minor": 2
}
