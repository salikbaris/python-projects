{
 "cells": [
  {
   "cell_type": "code",
   "execution_count": 1,
   "id": "e5bcd266",
   "metadata": {},
   "outputs": [],
   "source": [
    "import numpy as np\n",
    "import sympy as smp\n",
    "from scipy.integrate import odeint\n",
    "import matplotlib.pyplot as plt\n",
    "from matplotlib import animation\n",
    "from mpl_toolkits.mplot3d import Axes3D\n",
    "from matplotlib.animation import PillowWriter"
   ]
  },
  {
   "cell_type": "code",
   "execution_count": 2,
   "id": "ca6ee831",
   "metadata": {},
   "outputs": [],
   "source": [
    "t, g = smp.symbols(\"t g\")\n",
    "m1, m2 = smp.symbols(\"m1 m2\")\n",
    "L1, L2 = smp.symbols(\"L1 L2\")"
   ]
  },
  {
   "cell_type": "code",
   "execution_count": 3,
   "id": "5297147b",
   "metadata": {},
   "outputs": [],
   "source": [
    "the1, the2 = smp.symbols(r\"\\theta_1, \\theta_2\", cls=smp.Function)"
   ]
  },
  {
   "cell_type": "code",
   "execution_count": 4,
   "id": "c3731de8",
   "metadata": {},
   "outputs": [
    {
     "data": {
      "text/plain": [
       "\\theta_1"
      ]
     },
     "execution_count": 4,
     "metadata": {},
     "output_type": "execute_result"
    }
   ],
   "source": [
    "the1"
   ]
  },
  {
   "cell_type": "code",
   "execution_count": 5,
   "id": "ab451697",
   "metadata": {},
   "outputs": [],
   "source": [
    "the1 = the1(t)\n",
    "the2 = the2(t)"
   ]
  },
  {
   "cell_type": "code",
   "execution_count": 6,
   "id": "24f7d400",
   "metadata": {},
   "outputs": [
    {
     "data": {
      "text/latex": [
       "$\\displaystyle \\theta_{1}{\\left(t \\right)}$"
      ],
      "text/plain": [
       "\\theta_1(t)"
      ]
     },
     "execution_count": 6,
     "metadata": {},
     "output_type": "execute_result"
    }
   ],
   "source": [
    "the1"
   ]
  },
  {
   "cell_type": "code",
   "execution_count": 7,
   "id": "70fb39b7",
   "metadata": {},
   "outputs": [],
   "source": [
    "the1_d = smp.diff(the1, t)\n",
    "the2_d = smp.diff(the2, t)\n",
    "the1_dd = smp.diff(the1_d, t)\n",
    "the2_dd = smp.diff(the2_d, t)"
   ]
  },
  {
   "cell_type": "code",
   "execution_count": 8,
   "id": "9cd7ef11",
   "metadata": {},
   "outputs": [],
   "source": [
    "x1 = L1 * smp.sin(the1)\n",
    "y1 = -L1 * smp.cos(the1)\n",
    "x2 = L1 * smp.sin(the1) + L2 * smp.sin(the2)\n",
    "y2 = -L1 * smp.cos(the1) - L2 * smp.cos(the2)"
   ]
  },
  {
   "cell_type": "code",
   "execution_count": 9,
   "id": "e21e1ad9",
   "metadata": {},
   "outputs": [],
   "source": [
    "# Kinetic\n",
    "T1 = 1/2 * m1 * (smp.diff(x1, t)**2 + smp.diff(y1, t)**2)\n",
    "T2 = 1/2 * m2 * (smp.diff(x2, t)**2 + smp.diff(y2, t)**2)\n",
    "T = T1 + T2\n",
    "# Potential\n",
    "V1 = m1 * g * y1\n",
    "V2 = m2 * g * y2\n",
    "V = V1 + V2\n",
    "# Lagrangian\n",
    "L = T - V"
   ]
  },
  {
   "cell_type": "code",
   "execution_count": 10,
   "id": "9721040a",
   "metadata": {},
   "outputs": [
    {
     "data": {
      "text/latex": [
       "$\\displaystyle - L_{2} g m_{2} \\sin{\\left(\\theta_{2}{\\left(t \\right)} \\right)} - 1.0 L_{2} m_{2} \\left(- L_{1} \\sin{\\left(\\theta_{1}{\\left(t \\right)} - \\theta_{2}{\\left(t \\right)} \\right)} \\left(\\frac{d}{d t} \\theta_{1}{\\left(t \\right)}\\right)^{2} + L_{1} \\sin{\\left(\\theta_{1}{\\left(t \\right)} - \\theta_{2}{\\left(t \\right)} \\right)} \\frac{d}{d t} \\theta_{1}{\\left(t \\right)} \\frac{d}{d t} \\theta_{2}{\\left(t \\right)} + L_{1} \\cos{\\left(\\theta_{1}{\\left(t \\right)} - \\theta_{2}{\\left(t \\right)} \\right)} \\frac{d^{2}}{d t^{2}} \\theta_{1}{\\left(t \\right)} + L_{2} \\frac{d^{2}}{d t^{2}} \\theta_{2}{\\left(t \\right)}\\right) + 0.5 m_{2} \\cdot \\left(2 L_{2} \\left(L_{1} \\sin{\\left(\\theta_{1}{\\left(t \\right)} \\right)} \\frac{d}{d t} \\theta_{1}{\\left(t \\right)} + L_{2} \\sin{\\left(\\theta_{2}{\\left(t \\right)} \\right)} \\frac{d}{d t} \\theta_{2}{\\left(t \\right)}\\right) \\cos{\\left(\\theta_{2}{\\left(t \\right)} \\right)} \\frac{d}{d t} \\theta_{2}{\\left(t \\right)} - 2 L_{2} \\left(L_{1} \\cos{\\left(\\theta_{1}{\\left(t \\right)} \\right)} \\frac{d}{d t} \\theta_{1}{\\left(t \\right)} + L_{2} \\cos{\\left(\\theta_{2}{\\left(t \\right)} \\right)} \\frac{d}{d t} \\theta_{2}{\\left(t \\right)}\\right) \\sin{\\left(\\theta_{2}{\\left(t \\right)} \\right)} \\frac{d}{d t} \\theta_{2}{\\left(t \\right)}\\right)$"
      ],
      "text/plain": [
       "-L2*g*m2*sin(\\theta_2(t)) - 1.0*L2*m2*(-L1*sin(\\theta_1(t) - \\theta_2(t))*Derivative(\\theta_1(t), t)**2 + L1*sin(\\theta_1(t) - \\theta_2(t))*Derivative(\\theta_1(t), t)*Derivative(\\theta_2(t), t) + L1*cos(\\theta_1(t) - \\theta_2(t))*Derivative(\\theta_1(t), (t, 2)) + L2*Derivative(\\theta_2(t), (t, 2))) + 0.5*m2*(2*L2*(L1*sin(\\theta_1(t))*Derivative(\\theta_1(t), t) + L2*sin(\\theta_2(t))*Derivative(\\theta_2(t), t))*cos(\\theta_2(t))*Derivative(\\theta_2(t), t) - 2*L2*(L1*cos(\\theta_1(t))*Derivative(\\theta_1(t), t) + L2*cos(\\theta_2(t))*Derivative(\\theta_2(t), t))*sin(\\theta_2(t))*Derivative(\\theta_2(t), t))"
      ]
     },
     "execution_count": 10,
     "metadata": {},
     "output_type": "execute_result"
    }
   ],
   "source": [
    "LE1 = smp.diff(L, the1) - smp.diff(smp.diff(L, the1_d), t).simplify()\n",
    "LE2 = smp.diff(L, the2) - smp.diff(smp.diff(L, the2_d), t).simplify()\n",
    "LE2"
   ]
  },
  {
   "cell_type": "code",
   "execution_count": 11,
   "id": "4718da0d",
   "metadata": {},
   "outputs": [],
   "source": [
    "sols = smp.solve([LE1, LE2], (the1_dd, the2_dd),\n",
    "                simplify=False, rational=False)"
   ]
  },
  {
   "cell_type": "code",
   "execution_count": 12,
   "id": "aaa548be",
   "metadata": {},
   "outputs": [],
   "source": [
    "dz1dt_f = smp.lambdify((t,g,m1,m2,L1,L2,the1,the2,the1_d,the2_d), sols[the1_dd])\n",
    "dz2dt_f = smp.lambdify((t,g,m1,m2,L1,L2,the1,the2,the1_d,the2_d), sols[the2_dd])\n",
    "dthe1dt_f = smp.lambdify(the1_d, the1_d)\n",
    "dthe2dt_f = smp.lambdify(the2_d, the2_d)"
   ]
  },
  {
   "cell_type": "code",
   "execution_count": 13,
   "id": "4c572231",
   "metadata": {},
   "outputs": [],
   "source": [
    "def dSdt(S, t, g, m1, m2, L1, L2):\n",
    "    the1, z1, the2, z2 = S\n",
    "    return [\n",
    "        dthe1dt_f(z1),\n",
    "        dz1dt_f(t, g, m1, m2, L1, L2, the1, the2, z1, z2),\n",
    "        dthe2dt_f(z2),\n",
    "        dz2dt_f(t, g, m1, m2, L1, L2, the1, the2, z1, z2),\n",
    "    ]"
   ]
  },
  {
   "cell_type": "code",
   "execution_count": 14,
   "id": "9f05fd4c",
   "metadata": {},
   "outputs": [],
   "source": [
    "t = np.linspace(0, 40, 1001)\n",
    "g = 9.81\n",
    "m1 = 2\n",
    "m2 = 1\n",
    "L1 = 2\n",
    "L2 = 1\n",
    "ans = odeint(dSdt, y0=[1, -3, -1, 5], t=t, args=(g, m1, m2, L1, L2))"
   ]
  },
  {
   "cell_type": "code",
   "execution_count": 15,
   "id": "ea72109c",
   "metadata": {},
   "outputs": [
    {
     "data": {
      "text/plain": [
       "25"
      ]
     },
     "execution_count": 15,
     "metadata": {},
     "output_type": "execute_result"
    }
   ],
   "source": [
    "len(t[t<1])"
   ]
  },
  {
   "cell_type": "code",
   "execution_count": 16,
   "id": "d52ec118",
   "metadata": {},
   "outputs": [
    {
     "data": {
      "text/plain": [
       "array([[  1.        ,  -3.        ,  -1.        ,   5.        ],\n",
       "       [  0.87413906,  -3.31025173,  -0.78277685,   5.91440903],\n",
       "       [  0.73333306,  -3.75998052,  -0.52139856,   7.24155048],\n",
       "       ...,\n",
       "       [ -0.88616579,   4.19459676,  12.25096793, -11.00398717],\n",
       "       [ -0.70444762,   4.73165892,  11.77817817, -12.17998297],\n",
       "       [ -0.52275734,   4.24973584,  11.32116145, -10.37241422]])"
      ]
     },
     "execution_count": 16,
     "metadata": {},
     "output_type": "execute_result"
    }
   ],
   "source": [
    "ans"
   ]
  },
  {
   "cell_type": "code",
   "execution_count": 17,
   "id": "15ca2ef4",
   "metadata": {},
   "outputs": [
    {
     "data": {
      "text/plain": [
       "array([[  1.        ,   0.87413906,   0.73333306, ...,  -0.88616579,\n",
       "         -0.70444762,  -0.52275734],\n",
       "       [ -3.        ,  -3.31025173,  -3.75998052, ...,   4.19459676,\n",
       "          4.73165892,   4.24973584],\n",
       "       [ -1.        ,  -0.78277685,  -0.52139856, ...,  12.25096793,\n",
       "         11.77817817,  11.32116145],\n",
       "       [  5.        ,   5.91440903,   7.24155048, ..., -11.00398717,\n",
       "        -12.17998297, -10.37241422]])"
      ]
     },
     "execution_count": 17,
     "metadata": {},
     "output_type": "execute_result"
    }
   ],
   "source": [
    "ans.T"
   ]
  },
  {
   "cell_type": "code",
   "execution_count": 18,
   "id": "9fcf311d",
   "metadata": {},
   "outputs": [],
   "source": [
    "the1 = ans.T[0]\n",
    "the2 = ans.T[2]"
   ]
  },
  {
   "cell_type": "code",
   "execution_count": 19,
   "id": "a80438b5",
   "metadata": {},
   "outputs": [
    {
     "data": {
      "text/plain": [
       "[<matplotlib.lines.Line2D at 0x28c5d958af0>]"
      ]
     },
     "execution_count": 19,
     "metadata": {},
     "output_type": "execute_result"
    },
    {
     "data": {
      "image/png": "[encoded data removed]",
      "text/plain": [
       "<Figure size 640x480 with 1 Axes>"
      ]
     },
     "metadata": {},
     "output_type": "display_data"
    }
   ],
   "source": [
    "plt.plot(t, the2)"
   ]
  },
  {
   "cell_type": "code",
   "execution_count": 20,
   "id": "e939919f",
   "metadata": {},
   "outputs": [],
   "source": [
    "def get_x1y1x2y2(t, the1, the2, L1, L2):\n",
    "    return (L1 * np.sin(the1),\n",
    "           -L1 * np.cos(the1),\n",
    "           L1 * np.sin(the1) + L2 * np.sin(the2),\n",
    "           -L1 * np.cos(the1) - L2 * np.cos(the2))\n",
    "\n",
    "x1, y1, x2, y2 =get_x1y1x2y2(t, ans.T[0],ans.T[2], L1, L2)"
   ]
  },
  {
   "cell_type": "code",
   "execution_count": 21,
   "id": "93a4d045",
   "metadata": {},
   "outputs": [
    {
     "data": {
      "image/png": "[encoded data removed]",
      "text/plain": [
       "<Figure size 800x800 with 1 Axes>"
      ]
     },
     "metadata": {},
     "output_type": "display_data"
    }
   ],
   "source": [
    "def animate(i):\n",
    "    ln1.set_data([0, x1[i], x2[i], [0, y1[i], y2[i]]])\n",
    "\n",
    "fig,ax = plt.subplots(1, 1, figsize=(8, 8))\n",
    "ax.set_facecolor(\"k\")\n",
    "ax.get_xaxis().set_ticks([]) # hide x axis ticks\n",
    "ax.get_yaxis().set_ticks([]) # hide y axis ticks\n",
    "ln1, = plt.plot([], [], \"ro--\", lw=3, markersize=8)\n",
    "ax.set_xlim(-4, 4)\n",
    "ax.set_ylim(-4, 4)\n",
    "ani = animation.FuncAnimation(fig, animate, frames=1000, interval=50)\n",
    "plt.show()"
   ]
  },
  {
   "cell_type": "code",
   "execution_count": null,
   "id": "61cf2516",
   "metadata": {},
   "outputs": [],
   "source": []
  }
 ],
 "metadata": {
  "kernelspec": {
   "display_name": "Python 3 (ipykernel)",
   "language": "python",
   "name": "python3"
  },
  "language_info": {
   "codemirror_mode": {
    "name": "ipython",
    "version": 3
   },
   "file_extension": ".py",
   "mimetype": "text/x-python",
   "name": "python",
   "nbconvert_exporter": "python",
   "pygments_lexer": "ipython3",
   "version": "3.9.17"
  },
  "vscode": {
   "interpreter": {
    "hash": "daf1c2f15a9989b54d36cabd0e87d3ee51443e0650fe4aed02fb00fe661901f9"
   }
  }
 },
 "nbformat": 4,
 "nbformat_minor": 5
}
